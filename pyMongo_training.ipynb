{
 "cells": [
  {
   "cell_type": "markdown",
   "metadata": {},
   "source": [
    "# No SSL connection (No CA)"
   ]
  },
  {
   "cell_type": "code",
   "execution_count": 9,
   "metadata": {},
   "outputs": [
    {
     "name": "stdout",
     "output_type": "stream",
     "text": [
      "MongoClient(host=['localhost:27017'], document_class=dict, tz_aware=False, connect=True)\n"
     ]
    }
   ],
   "source": [
    "import pymongo\n",
    "client = pymongo.MongoClient('localhost')\n",
    "print(client)"
   ]
  },
  {
   "cell_type": "markdown",
   "metadata": {},
   "source": [
    "# SSL connection (CA)"
   ]
  },
  {
   "cell_type": "code",
   "execution_count": null,
   "metadata": {},
   "outputs": [],
   "source": [
    "import pymongo\n",
    "client = pymongo.MongoClient('localhost',\n",
    "username='eshopuser',\n",
    "password='password',\n",
    "authSource='admin',\n",
    "authMechanism='SCRAM-SHA-256')\n",
    "\n",
    "print(client)"
   ]
  },
  {
   "cell_type": "markdown",
   "metadata": {},
   "source": [
    "# list collections in db"
   ]
  },
  {
   "cell_type": "code",
   "execution_count": 123,
   "metadata": {},
   "outputs": [
    {
     "data": {
      "text/plain": [
       "['TestOrder', 'Order', 'Store', 'Member']"
      ]
     },
     "execution_count": 123,
     "metadata": {},
     "output_type": "execute_result"
    }
   ],
   "source": [
    " db.list_collection_names()"
   ]
  },
  {
   "cell_type": "markdown",
   "metadata": {},
   "source": [
    "# switch DB and select collections"
   ]
  },
  {
   "cell_type": "code",
   "execution_count": 18,
   "metadata": {},
   "outputs": [],
   "source": [
    "db = client.eShopping\n",
    "collect_members = db.Member"
   ]
  },
  {
   "cell_type": "markdown",
   "metadata": {},
   "source": [
    "# find contents in Member"
   ]
  },
  {
   "cell_type": "code",
   "execution_count": 24,
   "metadata": {},
   "outputs": [
    {
     "name": "stdout",
     "output_type": "stream",
     "text": [
      "{'_id': ObjectId('5ebf91d17f3fe185f32df6af'), 'name': 'Jimmy', 'phone': '09xxxxxxxx', 'purchased': [{'bookID': 'b309', 'title': '你不知道的 MongoDB'}, {'bookID': 'b310', 'title': '你不知道的 MySQL'}]}\n",
      "{'_id': ObjectId('5ebf92497f3fe185f32df6b0'), 'name': 'Ray', 'phone': '0923934xxx', 'purchased': [{'bookID': 'b311', 'title': '24小時學會 MySQL'}, {'bookID': 'b310', 'title': '24小時學會 MongoDB'}]}\n",
      "{'_id': ObjectId('5ebfa5fb68bf4558daf46dd2'), 'name': 'Mary', 'phone': '0920283xxx', 'purchased': [{'bookID': 'b314', 'title': 'HBase 教戰手冊'}]}\n",
      "{'_id': ObjectId('5ec223a2556a5b6da6cb2eed'), 'name': 'dummy', 'age': 20.0}\n",
      "{'_id': ObjectId('5ec223a6556a5b6da6cb2eee'), 'name': 'dummy', 'age': 21.0}\n",
      "{'_id': ObjectId('5ec223a9556a5b6da6cb2eef'), 'name': 'dummy', 'age': 22.0}\n",
      "{'_id': ObjectId('5ec223ac556a5b6da6cb2ef0'), 'name': 'dummy', 'age': 23.0}\n",
      "{'_id': ObjectId('5ec223ae556a5b6da6cb2ef1'), 'name': 'dummy', 'age': 24.0}\n",
      "{'_id': ObjectId('5ec223b0556a5b6da6cb2ef2'), 'name': 'dummy', 'age': 25.0}\n",
      "{'_id': ObjectId('5ec2275d556a5b6da6cb2ef3'), 'name': 'dummy', 'age': 26.0}\n",
      "{'_id': ObjectId('5ec2275d556a5b6da6cb2ef4'), 'name': 'dummy', 'age': 27.0}\n",
      "{'_id': ObjectId('5ec2275d556a5b6da6cb2ef5'), 'name': 'dummy', 'age': 28.0}\n",
      "{'_id': ObjectId('5ec2275d556a5b6da6cb2ef6'), 'name': 'dummy', 'age': 29.0}\n"
     ]
    }
   ],
   "source": [
    "cursor=collect_members.find()\n",
    "for _cursor in cursor:\n",
    "    print(_cursor)"
   ]
  },
  {
   "cell_type": "markdown",
   "metadata": {},
   "source": [
    "#  Query all contens at once"
   ]
  },
  {
   "cell_type": "code",
   "execution_count": 150,
   "metadata": {},
   "outputs": [
    {
     "name": "stdout",
     "output_type": "stream",
     "text": [
      "[{'_id': ObjectId('5ebf91d17f3fe185f32df6af'), 'name': 'Jimmy', 'phone': '09xxxxxxxx', 'purchased': [{'bookID': 'b309', 'title': '你不知道的 MongoDB'}, {'bookID': 'b310', 'title': '你不知道的 MySQL'}]}, {'_id': ObjectId('5ebf92497f3fe185f32df6b0'), 'name': 'Ray', 'phone': '0923934xxx', 'purchased': [{'bookID': 'b311', 'title': '24小時學會 MySQL'}, {'bookID': 'b310', 'title': '24小時學會 MongoDB'}]}, {'_id': ObjectId('5ebfa5fb68bf4558daf46dd2'), 'name': 'Mary', 'phone': '0920283xxx', 'purchased': [{'bookID': 'b314', 'title': 'HBase 教戰手冊'}]}, {'_id': ObjectId('5ec223a2556a5b6da6cb2eed'), 'name': 'dummy', 'age': 20.0}, {'_id': ObjectId('5ec223a6556a5b6da6cb2eee'), 'name': 'dummy', 'age': 21.0}, {'_id': ObjectId('5ec223a9556a5b6da6cb2eef'), 'name': 'dummy', 'age': 22.0}, {'_id': ObjectId('5ec223ac556a5b6da6cb2ef0'), 'name': 'dummy', 'age': 23.0}, {'_id': ObjectId('5ec223ae556a5b6da6cb2ef1'), 'name': 'dummy', 'age': 24.0}, {'_id': ObjectId('5ec223b0556a5b6da6cb2ef2'), 'name': 'dummy', 'age': 25.0}, {'_id': ObjectId('5ec2275d556a5b6da6cb2ef3'), 'name': 'dummy', 'age': 26.0}, {'_id': ObjectId('5ec2275d556a5b6da6cb2ef4'), 'name': 'dummy', 'age': 27.0}, {'_id': ObjectId('5ec2275d556a5b6da6cb2ef5'), 'name': 'dummy', 'age': 28.0}, {'_id': ObjectId('5ec2275d556a5b6da6cb2ef6'), 'name': 'dummy', 'age': 29.0}, {'_id': ObjectId('5ecf20e7fbb91628541bc11b'), 'name': 'Hannah', 'phone': '09xxxxxxxx'}, {'_id': ObjectId('5ecf20e7fbb91628541bc11c'), 'name': 'Michael', 'phone': '09xxxxxxxx'}, {'_id': ObjectId('5ecf20e7fbb91628541bc11d'), 'name': 'Sandy', 'phone': '09xxxxxxxx'}, {'_id': ObjectId('5ecf26d3fbb91628541bc124'), 'name': 'Alan Chen', 'phone': '09xxxxxxxx'}, {'_id': ObjectId('5ecf26f7fbb91628541bc125'), 'name': 'Alan Chen', 'phone': '09xxxxxxxx'}]\n"
     ]
    }
   ],
   "source": [
    "memberlist = list(collect_members.find({},\n",
    "cursor_type=pymongo.CursorType.EXHAUST))\n",
    "print(memberlist)"
   ]
  },
  {
   "cell_type": "code",
   "execution_count": 160,
   "metadata": {},
   "outputs": [
    {
     "name": "stdout",
     "output_type": "stream",
     "text": [
      "<pymongo.cursor.Cursor object at 0x0000020EC49F4588>\n",
      "[{'_id': ObjectId('5ecf26d3fbb91628541bc124'), 'name': 'Alan Chen', 'phone': '09xxxxxxxx'}, {'_id': ObjectId('5ecf26f7fbb91628541bc125'), 'name': 'Alan Chen', 'phone': '09xxxxxxxx'}, {'_id': ObjectId('5ecf278afbb91628541bc126'), 'name': 'Alan Chen', 'phone': '09xxxxxxxx'}, {'_id': ObjectId('5ecf27abfbb91628541bc127'), 'name': 'Alan Chen', 'phone': '09xxxxxxxx'}]\n"
     ]
    }
   ],
   "source": [
    "Alanlist = collect_members.find({'name': 'Alan Chen'})\n",
    "print(Alanlist)\n",
    "#無法轉list\n",
    "\n",
    "Alanlist = list(collect_members.find({'name': 'Alan Chen'},\n",
    "cursor_type=pymongo.CursorType.EXHAUST))\n",
    "print(Alanlist)"
   ]
  },
  {
   "cell_type": "markdown",
   "metadata": {},
   "source": [
    "#  create items in Member"
   ]
  },
  {
   "cell_type": "code",
   "execution_count": 53,
   "metadata": {},
   "outputs": [
    {
     "data": {
      "text/plain": [
       "<pymongo.results.InsertOneResult at 0x20ec1365508>"
      ]
     },
     "execution_count": 53,
     "metadata": {},
     "output_type": "execute_result"
    }
   ],
   "source": [
    "collect_members.insert_one({'name': 'Alan Chen', 'phone': '09xxxxxxxx'})"
   ]
  },
  {
   "cell_type": "code",
   "execution_count": 149,
   "metadata": {},
   "outputs": [
    {
     "name": "stdout",
     "output_type": "stream",
     "text": [
      "{'_id': ObjectId('5ecf26d3fbb91628541bc124'), 'name': 'Alan Chen', 'phone': '09xxxxxxxx'}\n",
      "{'_id': ObjectId('5ecf26f7fbb91628541bc125'), 'name': 'Alan Chen', 'phone': '09xxxxxxxx'}\n"
     ]
    }
   ],
   "source": [
    "cursor_Alan=collect_members.find({'name': 'Alan Chen'})\n",
    "for _ in cursor_Alan:\n",
    "    print(_)"
   ]
  },
  {
   "cell_type": "code",
   "execution_count": 118,
   "metadata": {},
   "outputs": [
    {
     "name": "stdout",
     "output_type": "stream",
     "text": [
      "[ObjectId('5ecf20e7fbb91628541bc11a'), ObjectId('5ecf20e7fbb91628541bc11b'), ObjectId('5ecf20e7fbb91628541bc11c'), ObjectId('5ecf20e7fbb91628541bc11d')]\n"
     ]
    }
   ],
   "source": [
    "mylist = [\n",
    "  {'name': 'Alan Chen', 'phone': '09xxxxxxxx'},\n",
    "  { \"name\": \"Hannah\", 'phone': '09xxxxxxxx'},\n",
    "  { \"name\": \"Michael\", 'phone': '09xxxxxxxx'},\n",
    "  { \"name\": \"Sandy\", 'phone': '09xxxxxxxx'},\n",
    "]\n",
    "\n",
    "x = collect_members.insert_many(mylist)\n",
    "\n",
    "#print list of the _id values of the inserted documents:\n",
    "print(x.inserted_ids)"
   ]
  },
  {
   "cell_type": "markdown",
   "metadata": {},
   "source": [
    "# delete all items in Member by conditions"
   ]
  },
  {
   "cell_type": "code",
   "execution_count": 138,
   "metadata": {},
   "outputs": [
    {
     "data": {
      "text/plain": [
       "<pymongo.results.DeleteResult at 0x20ec4a128c8>"
      ]
     },
     "execution_count": 138,
     "metadata": {},
     "output_type": "execute_result"
    }
   ],
   "source": [
    "collect_members.delete_many({'name':'Alan Chen'})"
   ]
  },
  {
   "cell_type": "code",
   "execution_count": 63,
   "metadata": {
    "scrolled": true
   },
   "outputs": [
    {
     "name": "stdout",
     "output_type": "stream",
     "text": [
      "{'_id': ObjectId('5ecf1a0efbb91628541bc0f6'), 'name': 'Alan Chen', 'phone': '09xxxxxxxx'}\n",
      "{'_id': ObjectId('5ecf1a0efbb91628541bc0f6'), 'name': 'Alan Chen', 'phone': '09xxxxxxxx'}\n"
     ]
    }
   ],
   "source": [
    "cursor_Alan=collect_members.find({'name': 'Alan Chen'})\n",
    "print(cursor_Alan[0])\n",
    "for _ in cursor_Alan:\n",
    "    print(_)"
   ]
  },
  {
   "cell_type": "markdown",
   "metadata": {},
   "source": [
    "# delete single items by ObjectId"
   ]
  },
  {
   "cell_type": "code",
   "execution_count": null,
   "metadata": {},
   "outputs": [],
   "source": [
    "from bson import ObjectId\n",
    "collect_members.delete_one({'_id': ObjectId('5ecf1634fbb91628541bc0f5')})"
   ]
  },
  {
   "cell_type": "code",
   "execution_count": 156,
   "metadata": {},
   "outputs": [],
   "source": [
    "collect_members.insert_one({'name': 'Alan Chen', 'phone': '09xxxxxxxx'})\n",
    "cursor_Alan=collect_members.find({'name': 'Alan Chen'})"
   ]
  },
  {
   "cell_type": "code",
   "execution_count": 157,
   "metadata": {},
   "outputs": [
    {
     "name": "stdout",
     "output_type": "stream",
     "text": [
      "{'_id': ObjectId('5ecf26d3fbb91628541bc124'), 'name': 'Alan Chen', 'phone': '09xxxxxxxx'}\n",
      "{'_id': ObjectId('5ecf26f7fbb91628541bc125'), 'name': 'Alan Chen', 'phone': '09xxxxxxxx'}\n",
      "{'_id': ObjectId('5ecf278afbb91628541bc126'), 'name': 'Alan Chen', 'phone': '09xxxxxxxx'}\n",
      "{'_id': ObjectId('5ecf27abfbb91628541bc127'), 'name': 'Alan Chen', 'phone': '09xxxxxxxx'}\n"
     ]
    }
   ],
   "source": [
    "for _ in cursor_Alan:\n",
    "    print(_)"
   ]
  },
  {
   "cell_type": "code",
   "execution_count": 139,
   "metadata": {},
   "outputs": [
    {
     "name": "stdout",
     "output_type": "stream",
     "text": [
      "[ObjectId('5ecf25fefbb91628541bc122')] <class 'list'>\n",
      "5ecf25fefbb91628541bc122\n",
      "[] <class 'list'>\n"
     ]
    }
   ],
   "source": [
    "collect_members.insert_one({'name': 'Alan Chen', 'phone': '09xxxxxxxx'})\n",
    "ids=cursor_Alan.distinct('_id')\n",
    "print(ids, type(ids))\n",
    "print(ids[0])\n",
    "collect_members.delete_one({'_id': ObjectId(ids[0])})\n",
    "ids=cursor_Alan.distinct('_id')\n",
    "print(ids, type(ids))"
   ]
  },
  {
   "cell_type": "code",
   "execution_count": 147,
   "metadata": {},
   "outputs": [
    {
     "name": "stdout",
     "output_type": "stream",
     "text": [
      "[{'_id': ObjectId('5ecf26b4fbb91628541bc123'), 'name': 'Alan Chen', 'phone': '09xxxxxxxx'}, {'_id': ObjectId('5ecf26d3fbb91628541bc124'), 'name': 'Alan Chen', 'phone': '09xxxxxxxx'}, {'_id': ObjectId('5ecf26f7fbb91628541bc125'), 'name': 'Alan Chen', 'phone': '09xxxxxxxx'}]\n"
     ]
    }
   ],
   "source": [
    "collect_members.insert_one({'name': 'Alan Chen', 'phone': '09xxxxxxxx'})\n",
    "Alanlist = list(collect_members.find({'name': 'Alan Chen'},\n",
    "cursor_type=pymongo.CursorType.EXHAUST))\n",
    "print(Alanlist)"
   ]
  },
  {
   "cell_type": "code",
   "execution_count": 162,
   "metadata": {},
   "outputs": [
    {
     "name": "stdout",
     "output_type": "stream",
     "text": [
      "[{'_id': ObjectId('5ecf278afbb91628541bc126'), 'name': 'Alan Chen', 'phone': '09xxxxxxxx'}, {'_id': ObjectId('5ecf27abfbb91628541bc127'), 'name': 'Alan Chen', 'phone': '09xxxxxxxx'}]\n"
     ]
    }
   ],
   "source": [
    "collect_members.delete_one(Alanlist[0])\n",
    "Alanlist = list(collect_members.find({'name': 'Alan Chen'},\n",
    "cursor_type=pymongo.CursorType.EXHAUST))\n",
    "print(Alanlist)"
   ]
  }
 ],
 "metadata": {
  "kernelspec": {
   "display_name": "Python 3",
   "language": "python",
   "name": "python3"
  },
  "language_info": {
   "codemirror_mode": {
    "name": "ipython",
    "version": 3
   },
   "file_extension": ".py",
   "mimetype": "text/x-python",
   "name": "python",
   "nbconvert_exporter": "python",
   "pygments_lexer": "ipython3",
   "version": "3.7.7"
  }
 },
 "nbformat": 4,
 "nbformat_minor": 4
}
